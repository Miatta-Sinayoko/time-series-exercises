{
 "cells": [
  {
   "cell_type": "markdown",
   "id": "290b6611",
   "metadata": {},
   "source": [
    "# Explore Exercise"
   ]
  },
  {
   "cell_type": "code",
   "execution_count": 1,
   "id": "e5845965",
   "metadata": {},
   "outputs": [],
   "source": [
    "# Import Libraries\n",
    "import numpy as np\n",
    "import pandas as pd\n",
    "import matplotlib.pyplot as plt\n",
    "import seaborn as sns\n",
    "import statsmodels.api as sm\n",
    "import datetime as dt\n",
    "import acquire as a\n",
    "import prepare as p\n",
    "import warnings\n",
    "warnings.filterwarnings('ignore')\n",
    "\n",
    "from env import host, user, password\n",
    "from sklearn.model_selection import TimeSeriesSplit\n",
    "from datetime import timedelta, datetime\n",
    "from sklearn.model_selection import train_test_split\n",
    "\n",
    "\n"
   ]
  },
  {
   "cell_type": "markdown",
   "id": "7c78bdbf",
   "metadata": {},
   "source": [
    "Do your work for this exercise in a notebook named explore. Use the techniques in the lesson to explore the store item demand dataset and the opsd dataset.\n",
    "\n",
    "For the store item demand data, you will need to choose a method of aggregating such that each observation is a unique date. For both datasets you should choose a method of splitting your data and only explore the training split.\n",
    "\n",
    "\n"
   ]
  },
  {
   "cell_type": "markdown",
   "id": "5f93e182",
   "metadata": {},
   "source": [
    "#  ACQUIRE"
   ]
  },
  {
   "cell_type": "code",
   "execution_count": 2,
   "id": "7eec0b4a",
   "metadata": {
    "scrolled": false
   },
   "outputs": [],
   "source": [
    "# Call the function to get the DataFrame.\n",
    "store_df = a.get_store_data()\n"
   ]
  },
  {
   "cell_type": "code",
   "execution_count": 3,
   "id": "5aaa5fc3",
   "metadata": {},
   "outputs": [
    {
     "data": {
      "text/html": [
       "<div>\n",
       "<style scoped>\n",
       "    .dataframe tbody tr th:only-of-type {\n",
       "        vertical-align: middle;\n",
       "    }\n",
       "\n",
       "    .dataframe tbody tr th {\n",
       "        vertical-align: top;\n",
       "    }\n",
       "\n",
       "    .dataframe thead th {\n",
       "        text-align: right;\n",
       "    }\n",
       "</style>\n",
       "<table border=\"1\" class=\"dataframe\">\n",
       "  <thead>\n",
       "    <tr style=\"text-align: right;\">\n",
       "      <th>store_id</th>\n",
       "      <th>1</th>\n",
       "      <th>1</th>\n",
       "      <th>1</th>\n",
       "      <th>1</th>\n",
       "      <th>1</th>\n",
       "    </tr>\n",
       "  </thead>\n",
       "  <tbody>\n",
       "    <tr>\n",
       "      <th>item_id</th>\n",
       "      <td>1</td>\n",
       "      <td>1</td>\n",
       "      <td>1</td>\n",
       "      <td>1</td>\n",
       "      <td>1</td>\n",
       "    </tr>\n",
       "    <tr>\n",
       "      <th>sale_id</th>\n",
       "      <td>1</td>\n",
       "      <td>2</td>\n",
       "      <td>3</td>\n",
       "      <td>4</td>\n",
       "      <td>5</td>\n",
       "    </tr>\n",
       "    <tr>\n",
       "      <th>sale_date</th>\n",
       "      <td>2013-01-01</td>\n",
       "      <td>2013-01-02</td>\n",
       "      <td>2013-01-03</td>\n",
       "      <td>2013-01-04</td>\n",
       "      <td>2013-01-05</td>\n",
       "    </tr>\n",
       "    <tr>\n",
       "      <th>sale_amount</th>\n",
       "      <td>13</td>\n",
       "      <td>11</td>\n",
       "      <td>14</td>\n",
       "      <td>13</td>\n",
       "      <td>10</td>\n",
       "    </tr>\n",
       "    <tr>\n",
       "      <th>item_upc14</th>\n",
       "      <td>35200264013</td>\n",
       "      <td>35200264013</td>\n",
       "      <td>35200264013</td>\n",
       "      <td>35200264013</td>\n",
       "      <td>35200264013</td>\n",
       "    </tr>\n",
       "    <tr>\n",
       "      <th>item_upc12</th>\n",
       "      <td>35200264013</td>\n",
       "      <td>35200264013</td>\n",
       "      <td>35200264013</td>\n",
       "      <td>35200264013</td>\n",
       "      <td>35200264013</td>\n",
       "    </tr>\n",
       "    <tr>\n",
       "      <th>item_brand</th>\n",
       "      <td>Riceland</td>\n",
       "      <td>Riceland</td>\n",
       "      <td>Riceland</td>\n",
       "      <td>Riceland</td>\n",
       "      <td>Riceland</td>\n",
       "    </tr>\n",
       "    <tr>\n",
       "      <th>item_name</th>\n",
       "      <td>Riceland American Jazmine Rice</td>\n",
       "      <td>Riceland American Jazmine Rice</td>\n",
       "      <td>Riceland American Jazmine Rice</td>\n",
       "      <td>Riceland American Jazmine Rice</td>\n",
       "      <td>Riceland American Jazmine Rice</td>\n",
       "    </tr>\n",
       "    <tr>\n",
       "      <th>item_price</th>\n",
       "      <td>0.84</td>\n",
       "      <td>0.84</td>\n",
       "      <td>0.84</td>\n",
       "      <td>0.84</td>\n",
       "      <td>0.84</td>\n",
       "    </tr>\n",
       "    <tr>\n",
       "      <th>store_address</th>\n",
       "      <td>12125 Alamo Ranch Pkwy</td>\n",
       "      <td>12125 Alamo Ranch Pkwy</td>\n",
       "      <td>12125 Alamo Ranch Pkwy</td>\n",
       "      <td>12125 Alamo Ranch Pkwy</td>\n",
       "      <td>12125 Alamo Ranch Pkwy</td>\n",
       "    </tr>\n",
       "    <tr>\n",
       "      <th>store_zipcode</th>\n",
       "      <td>78253</td>\n",
       "      <td>78253</td>\n",
       "      <td>78253</td>\n",
       "      <td>78253</td>\n",
       "      <td>78253</td>\n",
       "    </tr>\n",
       "    <tr>\n",
       "      <th>store_city</th>\n",
       "      <td>San Antonio</td>\n",
       "      <td>San Antonio</td>\n",
       "      <td>San Antonio</td>\n",
       "      <td>San Antonio</td>\n",
       "      <td>San Antonio</td>\n",
       "    </tr>\n",
       "    <tr>\n",
       "      <th>store_state</th>\n",
       "      <td>TX</td>\n",
       "      <td>TX</td>\n",
       "      <td>TX</td>\n",
       "      <td>TX</td>\n",
       "      <td>TX</td>\n",
       "    </tr>\n",
       "    <tr>\n",
       "      <th>sales_total</th>\n",
       "      <td>10.92</td>\n",
       "      <td>9.24</td>\n",
       "      <td>11.76</td>\n",
       "      <td>10.92</td>\n",
       "      <td>8.4</td>\n",
       "    </tr>\n",
       "  </tbody>\n",
       "</table>\n",
       "</div>"
      ],
      "text/plain": [
       "store_id                                    1                               1  \\\n",
       "item_id                                     1                               1   \n",
       "sale_id                                     1                               2   \n",
       "sale_date                          2013-01-01                      2013-01-02   \n",
       "sale_amount                                13                              11   \n",
       "item_upc14                        35200264013                     35200264013   \n",
       "item_upc12                        35200264013                     35200264013   \n",
       "item_brand                           Riceland                        Riceland   \n",
       "item_name      Riceland American Jazmine Rice  Riceland American Jazmine Rice   \n",
       "item_price                               0.84                            0.84   \n",
       "store_address          12125 Alamo Ranch Pkwy          12125 Alamo Ranch Pkwy   \n",
       "store_zipcode                           78253                           78253   \n",
       "store_city                        San Antonio                     San Antonio   \n",
       "store_state                                TX                              TX   \n",
       "sales_total                             10.92                            9.24   \n",
       "\n",
       "store_id                                    1                               1  \\\n",
       "item_id                                     1                               1   \n",
       "sale_id                                     3                               4   \n",
       "sale_date                          2013-01-03                      2013-01-04   \n",
       "sale_amount                                14                              13   \n",
       "item_upc14                        35200264013                     35200264013   \n",
       "item_upc12                        35200264013                     35200264013   \n",
       "item_brand                           Riceland                        Riceland   \n",
       "item_name      Riceland American Jazmine Rice  Riceland American Jazmine Rice   \n",
       "item_price                               0.84                            0.84   \n",
       "store_address          12125 Alamo Ranch Pkwy          12125 Alamo Ranch Pkwy   \n",
       "store_zipcode                           78253                           78253   \n",
       "store_city                        San Antonio                     San Antonio   \n",
       "store_state                                TX                              TX   \n",
       "sales_total                             11.76                           10.92   \n",
       "\n",
       "store_id                                    1  \n",
       "item_id                                     1  \n",
       "sale_id                                     5  \n",
       "sale_date                          2013-01-05  \n",
       "sale_amount                                10  \n",
       "item_upc14                        35200264013  \n",
       "item_upc12                        35200264013  \n",
       "item_brand                           Riceland  \n",
       "item_name      Riceland American Jazmine Rice  \n",
       "item_price                               0.84  \n",
       "store_address          12125 Alamo Ranch Pkwy  \n",
       "store_zipcode                           78253  \n",
       "store_city                        San Antonio  \n",
       "store_state                                TX  \n",
       "sales_total                               8.4  "
      ]
     },
     "execution_count": 3,
     "metadata": {},
     "output_type": "execute_result"
    }
   ],
   "source": [
    "store_df['sales_total'] = store_df['sale_amount'] * store_df['item_price']\n",
    "store_df.head().T"
   ]
  },
  {
   "cell_type": "code",
   "execution_count": 4,
   "id": "d2d3f84a",
   "metadata": {
    "scrolled": true
   },
   "outputs": [
    {
     "data": {
      "text/plain": [
       "44.37     132\n",
       "39.15     123\n",
       "36.54     121\n",
       "49.59     120\n",
       "41.76     119\n",
       "         ... \n",
       "170.10      1\n",
       "160.38      1\n",
       "150.66      1\n",
       "167.67      1\n",
       "117.81      1\n",
       "Name: sales_total, Length: 329, dtype: int64"
      ]
     },
     "execution_count": 4,
     "metadata": {},
     "output_type": "execute_result"
    }
   ],
   "source": [
    "store_df.reset_index().sales_total.value_counts()"
   ]
  },
  {
   "cell_type": "code",
   "execution_count": 9,
   "id": "71c52e5e",
   "metadata": {},
   "outputs": [
    {
     "name": "stdout",
     "output_type": "stream",
     "text": [
      "DatetimeIndex(['2013-01-01', '2013-01-02', '2013-01-03', '2013-01-04',\n",
      "               '2013-01-05', '2013-01-06', '2013-01-07', '2013-01-08',\n",
      "               '2013-01-09', '2013-01-10',\n",
      "               ...\n",
      "               '2017-12-22', '2017-12-23', '2017-12-24', '2017-12-25',\n",
      "               '2017-12-26', '2017-12-27', '2017-12-28', '2017-12-29',\n",
      "               '2017-12-30', '2017-12-31'],\n",
      "              dtype='datetime64[ns]', length=1826, freq='D')\n"
     ]
    }
   ],
   "source": [
    "# Assuming df is your DataFrame with the sale_date column\n",
    "# First, ensure that the sale_date column is in datetime format\n",
    "store_df = p.convert_to_datetime(store_df)\n",
    "\n",
    "# Now, you can call the date range using pd.date_range()\n",
    "date_range = pd.date_range(start=store_df['sale_date'].min(), end=store_df['sale_date'].max(), freq='D')\n",
    "\n",
    "# The date_range variable now contains the range of dates from the minimum to the maximum sale_date in your DataFrame\n",
    "print(date_range)\n"
   ]
  },
  {
   "cell_type": "code",
   "execution_count": 6,
   "id": "344898b3",
   "metadata": {
    "scrolled": true
   },
   "outputs": [
    {
     "name": "stdout",
     "output_type": "stream",
     "text": [
      "<class 'pandas.core.frame.DataFrame'>\n",
      "Int64Index: 10000 entries, 1 to 1\n",
      "Data columns (total 14 columns):\n",
      " #   Column         Non-Null Count  Dtype         \n",
      "---  ------         --------------  -----         \n",
      " 0   item_id        10000 non-null  int64         \n",
      " 1   sale_id        10000 non-null  int64         \n",
      " 2   sale_date      10000 non-null  datetime64[ns]\n",
      " 3   sale_amount    10000 non-null  int64         \n",
      " 4   item_upc14     10000 non-null  int64         \n",
      " 5   item_upc12     10000 non-null  int64         \n",
      " 6   item_brand     10000 non-null  object        \n",
      " 7   item_name      10000 non-null  object        \n",
      " 8   item_price     10000 non-null  float64       \n",
      " 9   store_address  10000 non-null  object        \n",
      " 10  store_zipcode  10000 non-null  int64         \n",
      " 11  store_city     10000 non-null  object        \n",
      " 12  store_state    10000 non-null  object        \n",
      " 13  sales_total    10000 non-null  float64       \n",
      "dtypes: datetime64[ns](1), float64(2), int64(6), object(5)\n",
      "memory usage: 1.1+ MB\n"
     ]
    },
    {
     "data": {
      "text/html": [
       "<div>\n",
       "<style scoped>\n",
       "    .dataframe tbody tr th:only-of-type {\n",
       "        vertical-align: middle;\n",
       "    }\n",
       "\n",
       "    .dataframe tbody tr th {\n",
       "        vertical-align: top;\n",
       "    }\n",
       "\n",
       "    .dataframe thead th {\n",
       "        text-align: right;\n",
       "    }\n",
       "</style>\n",
       "<table border=\"1\" class=\"dataframe\">\n",
       "  <thead>\n",
       "    <tr style=\"text-align: right;\">\n",
       "      <th></th>\n",
       "      <th>item_id</th>\n",
       "      <th>sale_id</th>\n",
       "      <th>sale_amount</th>\n",
       "      <th>item_upc14</th>\n",
       "      <th>item_upc12</th>\n",
       "      <th>item_price</th>\n",
       "      <th>store_zipcode</th>\n",
       "      <th>sales_total</th>\n",
       "    </tr>\n",
       "  </thead>\n",
       "  <tbody>\n",
       "    <tr>\n",
       "      <th>count</th>\n",
       "      <td>10000.000000</td>\n",
       "      <td>10000.000000</td>\n",
       "      <td>10000.00000</td>\n",
       "      <td>1.000000e+04</td>\n",
       "      <td>1.000000e+04</td>\n",
       "      <td>10000.000000</td>\n",
       "      <td>10000.0</td>\n",
       "      <td>10000.000000</td>\n",
       "    </tr>\n",
       "    <tr>\n",
       "      <th>mean</th>\n",
       "      <td>3.261000</td>\n",
       "      <td>42157.774000</td>\n",
       "      <td>30.21510</td>\n",
       "      <td>1.960001e+11</td>\n",
       "      <td>1.960001e+11</td>\n",
       "      <td>3.425906</td>\n",
       "      <td>78253.0</td>\n",
       "      <td>128.223601</td>\n",
       "    </tr>\n",
       "    <tr>\n",
       "      <th>std</th>\n",
       "      <td>1.594093</td>\n",
       "      <td>29041.368251</td>\n",
       "      <td>17.09331</td>\n",
       "      <td>2.750173e+11</td>\n",
       "      <td>2.750173e+11</td>\n",
       "      <td>2.065471</td>\n",
       "      <td>0.0</td>\n",
       "      <td>138.872235</td>\n",
       "    </tr>\n",
       "    <tr>\n",
       "      <th>min</th>\n",
       "      <td>1.000000</td>\n",
       "      <td>1.000000</td>\n",
       "      <td>3.00000</td>\n",
       "      <td>1.111107e+10</td>\n",
       "      <td>1.111107e+10</td>\n",
       "      <td>0.840000</td>\n",
       "      <td>78253.0</td>\n",
       "      <td>3.360000</td>\n",
       "    </tr>\n",
       "    <tr>\n",
       "      <th>25%</th>\n",
       "      <td>2.000000</td>\n",
       "      <td>18934.750000</td>\n",
       "      <td>17.00000</td>\n",
       "      <td>2.392333e+10</td>\n",
       "      <td>2.392333e+10</td>\n",
       "      <td>2.430000</td>\n",
       "      <td>78253.0</td>\n",
       "      <td>33.930000</td>\n",
       "    </tr>\n",
       "    <tr>\n",
       "      <th>50%</th>\n",
       "      <td>3.000000</td>\n",
       "      <td>37868.500000</td>\n",
       "      <td>25.00000</td>\n",
       "      <td>3.520026e+10</td>\n",
       "      <td>3.520026e+10</td>\n",
       "      <td>2.610000</td>\n",
       "      <td>78253.0</td>\n",
       "      <td>63.180000</td>\n",
       "    </tr>\n",
       "    <tr>\n",
       "      <th>75%</th>\n",
       "      <td>5.000000</td>\n",
       "      <td>73236.250000</td>\n",
       "      <td>40.00000</td>\n",
       "      <td>2.085288e+11</td>\n",
       "      <td>2.085288e+11</td>\n",
       "      <td>6.440000</td>\n",
       "      <td>78253.0</td>\n",
       "      <td>206.080000</td>\n",
       "    </tr>\n",
       "    <tr>\n",
       "      <th>max</th>\n",
       "      <td>6.000000</td>\n",
       "      <td>92170.000000</td>\n",
       "      <td>115.00000</td>\n",
       "      <td>7.592831e+11</td>\n",
       "      <td>7.592831e+11</td>\n",
       "      <td>6.930000</td>\n",
       "      <td>78253.0</td>\n",
       "      <td>740.600000</td>\n",
       "    </tr>\n",
       "  </tbody>\n",
       "</table>\n",
       "</div>"
      ],
      "text/plain": [
       "            item_id       sale_id  sale_amount    item_upc14    item_upc12  \\\n",
       "count  10000.000000  10000.000000  10000.00000  1.000000e+04  1.000000e+04   \n",
       "mean       3.261000  42157.774000     30.21510  1.960001e+11  1.960001e+11   \n",
       "std        1.594093  29041.368251     17.09331  2.750173e+11  2.750173e+11   \n",
       "min        1.000000      1.000000      3.00000  1.111107e+10  1.111107e+10   \n",
       "25%        2.000000  18934.750000     17.00000  2.392333e+10  2.392333e+10   \n",
       "50%        3.000000  37868.500000     25.00000  3.520026e+10  3.520026e+10   \n",
       "75%        5.000000  73236.250000     40.00000  2.085288e+11  2.085288e+11   \n",
       "max        6.000000  92170.000000    115.00000  7.592831e+11  7.592831e+11   \n",
       "\n",
       "         item_price  store_zipcode   sales_total  \n",
       "count  10000.000000        10000.0  10000.000000  \n",
       "mean       3.425906        78253.0    128.223601  \n",
       "std        2.065471            0.0    138.872235  \n",
       "min        0.840000        78253.0      3.360000  \n",
       "25%        2.430000        78253.0     33.930000  \n",
       "50%        2.610000        78253.0     63.180000  \n",
       "75%        6.440000        78253.0    206.080000  \n",
       "max        6.930000        78253.0    740.600000  "
      ]
     },
     "execution_count": 6,
     "metadata": {},
     "output_type": "execute_result"
    }
   ],
   "source": [
    "# Check the data types and non-null counts\n",
    "store_df.info()\n",
    "\n",
    "# Summary statistics of the numerical columns\n",
    "store_df.describe()\n"
   ]
  },
  {
   "cell_type": "code",
   "execution_count": 7,
   "id": "5c31f12e",
   "metadata": {},
   "outputs": [
    {
     "data": {
      "text/plain": [
       "(10000, 14)"
      ]
     },
     "execution_count": 7,
     "metadata": {},
     "output_type": "execute_result"
    }
   ],
   "source": [
    "store_df.shape"
   ]
  },
  {
   "cell_type": "code",
   "execution_count": 11,
   "id": "bf8d5591",
   "metadata": {},
   "outputs": [
    {
     "name": "stdout",
     "output_type": "stream",
     "text": [
      "item_id          0\n",
      "sale_id          0\n",
      "sale_date        0\n",
      "sale_amount      0\n",
      "item_upc14       0\n",
      "item_upc12       0\n",
      "item_brand       0\n",
      "item_name        0\n",
      "item_price       0\n",
      "store_address    0\n",
      "store_zipcode    0\n",
      "store_city       0\n",
      "store_state      0\n",
      "sales_total      0\n",
      "dtype: int64\n",
      "0\n"
     ]
    }
   ],
   "source": [
    "# Check for missing values\n",
    "print(store_df.isnull().sum())\n",
    "\n",
    "# If there are any missing values, handle them as needed, for example:\n",
    "# df = df.dropna()  # Drop rows with missing values\n",
    "# df = df.fillna(0)  # Fill missing values with 0\n",
    "# df = df.interpolate()  # Interpolate missing values\n",
    "\n",
    "# Check for duplicates\n",
    "print(store_df.duplicated().sum())\n",
    "\n",
    "# If there are any duplicates, remove them if necessary\n",
    "# df = df.drop_duplicates()\n"
   ]
  },
  {
   "cell_type": "markdown",
   "id": "b6011513",
   "metadata": {},
   "source": [
    "# DATA SPLITTING \n",
    "\n",
    "- Ideally all splits contain a season\n",
    "- Human-based: use the last year as test\n",
    "- Percentage based: use the last 20% as test\n",
    "- Cross Validate: break data up into slices and use successive slices as train and test repeatedly (sklearn.model_selection.TimeSeriesSplit) image.png\n"
   ]
  },
  {
   "cell_type": "code",
   "execution_count": 12,
   "id": "35c371b2",
   "metadata": {},
   "outputs": [
    {
     "data": {
      "text/plain": [
       "7000"
      ]
     },
     "execution_count": 12,
     "metadata": {},
     "output_type": "execute_result"
    }
   ],
   "source": [
    "train_size = 0.70 \n",
    "n = store_df.shape[0] \n",
    "test_start_index = round(train_size * n)\n",
    "test_start_index"
   ]
  },
  {
   "cell_type": "code",
   "execution_count": 13,
   "id": "ad034d26",
   "metadata": {
    "scrolled": true
   },
   "outputs": [],
   "source": [
    "train =  store_df.iloc[:test_start_index] \n",
    "test =  store_df.iloc[test_start_index:] "
   ]
  },
  {
   "cell_type": "code",
   "execution_count": 14,
   "id": "401dbc1b",
   "metadata": {},
   "outputs": [
    {
     "data": {
      "text/plain": [
       "[<matplotlib.lines.Line2D at 0x129a8b850>]"
      ]
     },
     "execution_count": 14,
     "metadata": {},
     "output_type": "execute_result"
    },
    {
     "data": {
      "image/png": "[encoded data removed]",
      "text/plain": [
       "<Figure size 640x480 with 1 Axes>"
      ]
     },
     "metadata": {},
     "output_type": "display_data"
    }
   ],
   "source": [
    "train = store_df[:test_start_index] # everything up (not including) to the test_start_index\n",
    "test =store_df[test_start_index:] # everything from the test_start_index to the end\n",
    "\n",
    "plt.plot(train.index, train.sales_total)\n",
    "plt.plot(test.index, test.sales_total)"
   ]
  },
  {
   "cell_type": "markdown",
   "id": "e466e93b",
   "metadata": {},
   "source": [
    "# HUMAN-BASED"
   ]
  },
  {
   "cell_type": "code",
   "execution_count": null,
   "id": "1dce4192",
   "metadata": {},
   "outputs": [],
   "source": [
    "train = store_df.loc[:'2013'].copy()\n",
    "test = store_df.loc['2017':].copy()"
   ]
  },
  {
   "cell_type": "code",
   "execution_count": null,
   "id": "f2f308ad",
   "metadata": {},
   "outputs": [],
   "source": [
    "plt.plot(train.index, train.sales_total)\n",
    "plt.plot(test.index, test.sales_total)\n",
    "plt.title('Sales total overtime')\n",
    "plt.show()"
   ]
  },
  {
   "cell_type": "markdown",
   "id": "aab4e228",
   "metadata": {},
   "source": [
    "# VISUALIZATIONS"
   ]
  },
  {
   "cell_type": "code",
   "execution_count": null,
   "id": "db82cec9",
   "metadata": {},
   "outputs": [],
   "source": [
    "y = train.sales_total\n",
    "y.head()"
   ]
  },
  {
   "cell_type": "markdown",
   "id": "34bce1ff",
   "metadata": {},
   "source": [
    "1. Blow off the time series"
   ]
  },
  {
   "cell_type": "code",
   "execution_count": null,
   "id": "d5025ff9",
   "metadata": {},
   "outputs": [],
   "source": [
    "train.sales_total.plot.hist()\n",
    "plt.title('distribution of sales total')\n",
    "plt.show()\n"
   ]
  },
  {
   "cell_type": "code",
   "execution_count": null,
   "id": "95e0e4e1",
   "metadata": {},
   "outputs": [],
   "source": [
    "# Convert the index to a DateTime index (if it's not already)\n",
    "store_df.index = pd.to_datetime(store_df.index)\n",
    "\n",
    "# Assuming 'store_df' is the DataFrame with 'sales_total' column\n",
    "store_df.groupby(store_df.index.month)['sales_total'].mean().plot.bar()\n",
    "plt.tick_params('x', rotation=0)\n",
    "plt.title('Mean Sales Total by Month')\n",
    "plt.show()\n"
   ]
  },
  {
   "cell_type": "code",
   "execution_count": null,
   "id": "96bb2600",
   "metadata": {},
   "outputs": [],
   "source": [
    "# assign a weekday column from the day_name() method on the datetime index\n",
    "train['weekday'] = train.index.day_name()\n",
    "train['day_num'] = train.index.day_of_week"
   ]
  },
  {
   "cell_type": "code",
   "execution_count": null,
   "id": "22800da5",
   "metadata": {},
   "outputs": [],
   "source": [
    "train"
   ]
  },
  {
   "cell_type": "code",
   "execution_count": null,
   "id": "678512f7",
   "metadata": {},
   "outputs": [],
   "source": [
    "# aggregate on that weekday\n",
    "train.groupby('weekday').mean().sort_values('day_num').sales_total.plot.bar()\n",
    "\n",
    "plt.title('mean sales total by day')\n",
    "plt.show()"
   ]
  },
  {
   "cell_type": "code",
   "execution_count": null,
   "id": "f3ddf771",
   "metadata": {},
   "outputs": [],
   "source": [
    "2. target over time"
   ]
  },
  {
   "cell_type": "code",
   "execution_count": null,
   "id": "29f092de",
   "metadata": {},
   "outputs": [],
   "source": [
    "train.columns"
   ]
  },
  {
   "cell_type": "code",
   "execution_count": null,
   "id": "691d2fa6",
   "metadata": {},
   "outputs": [],
   "source": [
    "y.head()"
   ]
  },
  {
   "cell_type": "code",
   "execution_count": null,
   "id": "24ec7f61",
   "metadata": {},
   "outputs": [],
   "source": [
    "y.plot();"
   ]
  },
  {
   "cell_type": "markdown",
   "id": "ebfaaea3",
   "metadata": {},
   "source": [
    "3. target averaged over various periods over time"
   ]
  },
  {
   "cell_type": "code",
   "execution_count": null,
   "id": "bedce86c",
   "metadata": {},
   "outputs": [],
   "source": [
    "y.resample('6H').mean().plot(title='6 hour average');"
   ]
  },
  {
   "cell_type": "code",
   "execution_count": null,
   "id": "1cab8ac9",
   "metadata": {},
   "outputs": [],
   "source": [
    "y.plot(alpha=0.2, label='Hourly')\n",
    "\n",
    "y.resample('D').mean().plot(alpha=0.5, label='Daily')\n",
    "y.resample('W').mean().plot(alpha=0.8, label='Weekly')\n",
    "y.resample('M').mean().plot(alpha=0.9, label='Monthly')\n",
    "y.resample('Y').mean().plot(label='Yearly')\n",
    "\n",
    "plt.title('sale_amount  over time')\n",
    "plt.legend()\n",
    "plt.show()\n"
   ]
  },
  {
   "cell_type": "markdown",
   "id": "6e23d802",
   "metadata": {},
   "source": [
    "4. change in target over time\n",
    ".diff will allow us to get deltas between values\n",
    "\n",
    "**look at the difference in data by week**\n",
    "\n",
    "- resample the data by week, get the average for that week\n",
    "- make the difference utilizing .diff()\n",
    "- plot the changes over time in order to examine volatility"
   ]
  },
  {
   "cell_type": "code",
   "execution_count": null,
   "id": "a8fcadab",
   "metadata": {},
   "outputs": [],
   "source": [
    "y.resample('W').mean().diff()"
   ]
  },
  {
   "cell_type": "code",
   "execution_count": null,
   "id": "24e7d2da",
   "metadata": {},
   "outputs": [],
   "source": [
    "y.resample('W').mean().diff().plot(title='average weekly change in temp');"
   ]
  },
  {
   "cell_type": "code",
   "execution_count": null,
   "id": "5a2bd157",
   "metadata": {},
   "outputs": [],
   "source": [
    "y.resample('M').mean().diff().plot(title='average monthly change in temp');"
   ]
  },
  {
   "cell_type": "markdown",
   "id": "70b6c622",
   "metadata": {},
   "source": [
    "5. Seasonal Plot\n",
    "shows the comparison of multiple seasons together\n",
    "\n",
    "our example: one season is one year. multiple lines are shown to show multiple years.\n",
    "\n",
    "- xaxis: month\n",
    "- yaxis: y\n",
    "- color: year"
   ]
  },
  {
   "cell_type": "code",
   "execution_count": null,
   "id": "67b45a48",
   "metadata": {},
   "outputs": [],
   "source": [
    "y.groupby([y.index.year, y.index.month]).mean()[:6]"
   ]
  },
  {
   "cell_type": "markdown",
   "id": "62edb1a8",
   "metadata": {},
   "source": [
    ".unstack\n",
    "- unstack will make a pivot table of a second order index"
   ]
  },
  {
   "cell_type": "code",
   "execution_count": null,
   "id": "0844b435",
   "metadata": {},
   "outputs": [],
   "source": [
    "y.groupby([y.index.year, y.index.month]).mean().unstack()"
   ]
  },
  {
   "cell_type": "code",
   "execution_count": null,
   "id": "fd2239a1",
   "metadata": {},
   "outputs": [],
   "source": [
    "# In this case, we turn the 0 index level into columns\n",
    "y.groupby([y.index.year, y.index.month]).mean().unstack(0)"
   ]
  },
  {
   "cell_type": "code",
   "execution_count": null,
   "id": "e92b8495",
   "metadata": {},
   "outputs": [],
   "source": [
    "y.groupby([y.index.year, y.index.month]).mean().unstack(0).plot()\n",
    "plt.title('mean monthly temperature by year')\n",
    "plt.show()\n"
   ]
  },
  {
   "cell_type": "markdown",
   "id": "f79a0805",
   "metadata": {},
   "source": [
    "6. Seasonal Subseries Plot"
   ]
  },
  {
   "cell_type": "code",
   "execution_count": null,
   "id": "aae2a3c0",
   "metadata": {},
   "outputs": [],
   "source": [
    "# make my pivot table of years to month with unstack()\n",
    "table = y.groupby([y.index.year, y.index.month]).mean().unstack()\n",
    "table"
   ]
  },
  {
   "cell_type": "code",
   "execution_count": null,
   "id": "0c7c9c36",
   "metadata": {},
   "outputs": [],
   "source": [
    "list1=[1,2,3]\n",
    "list2=[4,5,6]\n",
    "for item1, item2 in zip(list1, list2):\n",
    "    print(item1, item2)\n",
    "1 4"
   ]
  },
  {
   "cell_type": "code",
   "execution_count": null,
   "id": "ea6972f6",
   "metadata": {},
   "outputs": [],
   "source": [
    "for i in table.iteritems():\n",
    "    print(i)"
   ]
  },
  {
   "cell_type": "code",
   "execution_count": null,
   "id": "c6282e78",
   "metadata": {},
   "outputs": [],
   "source": [
    "# unpacking my figure and axes elements\n",
    "fig, axs = plt.subplots(1, 12, sharey=True, sharex=True)\n",
    "\n",
    "# for ax, (month, subset) \n",
    "for ax, (month, subset) in zip(axs, table.iteritems()):\n",
    "    subset.plot(ax=ax, title=month)\n",
    "    ax.hlines(subset.mean(), *ax.get_xlim(), color='black', ls='--')\n",
    "    ax.set(xlabel='')\n",
    "    ax.tick_params('x', rotation=30)\n",
    "    \n",
    "fig.suptitle('Seasonal Subseries Plot') # super-title for the overall figure\n",
    "fig.tight_layout()\n",
    "fig.subplots_adjust(wspace=0)"
   ]
  },
  {
   "cell_type": "markdown",
   "id": "7e69023c",
   "metadata": {},
   "source": [
    "As with the monthly box plot, the seasonal pattern is quite evident in the seasonal subseries.\n",
    "\n",
    "- Do the data exhibit a seasonal pattern?\n",
    "- What is the nature of the seasonality?\n",
    "- Is there a within-group pattern (e.g., do January and July exhibit similar patterns)?\n",
    "- Are there any outliers once seasonality has been accounted for?\n",
    "\n",
    "7. Lag Plot\n",
    "\n",
    "A lag plot is a scatter plot of a series with itself, shifted, or lagged. Put another way, a lag plot measures one value against the next or previous value.\n",
    "\n",
    "If your data is sampled daily, you could think of t as 'today', t+1 is 'tomorrow'. More generally, t is any given time period and t+1 is the time period after. If your data is sampled weekly, t is any given week, and t+1 is the following week."
   ]
  },
  {
   "cell_type": "code",
   "execution_count": null,
   "id": "448e8555",
   "metadata": {},
   "outputs": [],
   "source": [
    "train['y(t + 1)'] = train.temp.shift(-1)\n",
    "train.head()\n"
   ]
  },
  {
   "cell_type": "code",
   "execution_count": null,
   "id": "0e2e8937",
   "metadata": {},
   "outputs": [],
   "source": [
    "train.plot.scatter(x='temp', y='y(t + 1)').set(xlabel='t', ylabel='t + 1')\n",
    "plt.title('hourly lag')\n",
    "plt.show()"
   ]
  },
  {
   "cell_type": "markdown",
   "id": "0c3fcf34",
   "metadata": {},
   "source": [
    "looks like we have a pretty strong linear association between the hour now and the temperature for the next hour\n"
   ]
  },
  {
   "cell_type": "code",
   "execution_count": null,
   "id": "4c6ca097",
   "metadata": {},
   "outputs": [],
   "source": [
    "weekly = train.resample('W').mean().drop(columns='y(t + 1)')\n",
    "weekly['the_next_week'] = weekly.temp.shift(-1)\n",
    "weekly = weekly.rename(columns={'temp': 'this_week'})\n",
    "weekly.plot.scatter(x='this_week', y='the_next_week')\n",
    "plt.title('weekly lag')\n",
    "plt.show()"
   ]
  },
  {
   "cell_type": "code",
   "execution_count": null,
   "id": "0aca5ece",
   "metadata": {},
   "outputs": [],
   "source": [
    "weekly  = train.resample('W').mean().drop(columns='y(t + 1)')\n",
    "weekly['12_weeks_out'] = weekly.temp.shift(-12)\n",
    "weekly = weekly.rename(columns={'temp': 'this_week'})\n",
    "weekly.plot.scatter(x='this_week', y='12_weeks_out')\n",
    "plt.title('lag over 12 weeks')\n",
    "plt.show()"
   ]
  },
  {
   "cell_type": "markdown",
   "id": "6735d3d4",
   "metadata": {},
   "source": [
    "use pd.plotting.lag_plot"
   ]
  },
  {
   "cell_type": "code",
   "execution_count": null,
   "id": "7b61b1b1",
   "metadata": {},
   "outputs": [],
   "source": [
    "#same thing, but easier\n",
    "pd.plotting.lag_plot(train.temp.resample('W').mean(), lag=52)\n",
    "plt.title('lag plot');"
   ]
  },
  {
   "cell_type": "markdown",
   "id": "be328f33",
   "metadata": {},
   "source": [
    "8. Autocorrelation Plot\n",
    "Autocorrelation is a measure of the linear relationship between lagged values of a time series. An autocorrelation plot shows the correlation coefficient as a function of lag time.\n"
   ]
  },
  {
   "cell_type": "code",
   "execution_count": null,
   "id": "4cc8a85d",
   "metadata": {},
   "outputs": [],
   "source": [
    "pd.plotting.autocorrelation_plot(train.temp.resample('W').mean())\n",
    "plt.show()"
   ]
  },
  {
   "cell_type": "markdown",
   "id": "a346aaaf",
   "metadata": {},
   "source": [
    "This can help us identify seasonality by looking at the peaks and valleys of the resulting visualization. The peaks can tells us the frequency with which the seasonality repeats itself, and the valleys show us where the correlation is the most negative.\n",
    "\n",
    "The dashed lines are a way measure whether the observed autocorrelation is a meaningful signal or just white noise. If the majority of the peaks and valleys fall within the dashed lines, the time series is probably white noise.\n",
    "\n",
    "9. Seasonal Decomposition\n",
    "Seasonal decomposition is a fancy way to say that we can model time series as having 3 seperate components, the seasonal repeated cycle, the long term trend, and random noise1. There are two types of seasonal decomposition models, additive and multiplicative.\n",
    "\n",
    "data = Seasonality + Trend + Residual"
   ]
  },
  {
   "cell_type": "code",
   "execution_count": null,
   "id": "de727015",
   "metadata": {},
   "outputs": [],
   "source": [
    "import statsmodels.api as sm\n"
   ]
  },
  {
   "cell_type": "code",
   "execution_count": null,
   "id": "ee21f2fd",
   "metadata": {},
   "outputs": [],
   "source": [
    "y = train.temp.resample('W').mean()\n",
    "\n",
    "result = sm.tsa.seasonal_decompose(y)\n"
   ]
  },
  {
   "cell_type": "code",
   "execution_count": null,
   "id": "89b8c352",
   "metadata": {},
   "outputs": [],
   "source": [
    "decomposition = pd.DataFrame({\n",
    "    'y': result.observed,\n",
    "    'trend': result.trend,\n",
    "    'seasonal': result.seasonal,\n",
    "    'resid': result.resid\n",
    "})"
   ]
  },
  {
   "cell_type": "code",
   "execution_count": null,
   "id": "156f1fa9",
   "metadata": {},
   "outputs": [],
   "source": [
    "decomposition['trend_centered'] = decomposition.trend - decomposition.trend.mean()\n",
    "decomposition[['trend_centered', 'seasonal', 'resid']].plot();\n"
   ]
  },
  {
   "cell_type": "markdown",
   "id": "81a0db30",
   "metadata": {},
   "source": [
    "10 Area Plots\n",
    "\n",
    "- can we visualize categories over time?"
   ]
  },
  {
   "cell_type": "code",
   "execution_count": null,
   "id": "5fa27ae7",
   "metadata": {},
   "outputs": [],
   "source": [
    "train.columns"
   ]
  },
  {
   "cell_type": "code",
   "execution_count": null,
   "id": "e8c764b2",
   "metadata": {},
   "outputs": [],
   "source": [
    "train = train.drop(columns=['y(t + 1)','weekday','day_num'])\n",
    "train = train.resample('D').mean()\n",
    "train\n"
   ]
  },
  {
   "cell_type": "code",
   "execution_count": null,
   "id": "30141af2",
   "metadata": {},
   "outputs": [],
   "source": [
    "train['temp_bin'] = pd.qcut(train.temp, 4, labels=['cold', 'cool', 'warm', 'hot'])\n"
   ]
  },
  {
   "cell_type": "code",
   "execution_count": null,
   "id": "3092230b",
   "metadata": {},
   "outputs": [],
   "source": [
    "train.head()\n"
   ]
  },
  {
   "cell_type": "code",
   "execution_count": null,
   "id": "34b91504",
   "metadata": {},
   "outputs": [],
   "source": [
    "train.groupby('temp_bin').resample('M').size()\n"
   ]
  },
  {
   "cell_type": "code",
   "execution_count": null,
   "id": "0c7f38f4",
   "metadata": {},
   "outputs": [],
   "source": [
    "train.groupby('temp_bin').mean()"
   ]
  },
  {
   "cell_type": "code",
   "execution_count": null,
   "id": "719866e2",
   "metadata": {},
   "outputs": [],
   "source": [
    "ax = (train.groupby('temp_bin')\n",
    " .resample('M')\n",
    " .size()\n",
    " .unstack(0)\n",
    " .apply(lambda row: row / row.sum(), axis=1)\n",
    " .plot.area(title='Temp bin over time', ylabel='% of the month'))\n",
    "ax.legend(loc=\"upper left\", bbox_to_anchor=(1, 1))\n",
    "ax.yaxis.set_major_formatter('{:.0%}'.format)\n"
   ]
  },
  {
   "cell_type": "code",
   "execution_count": null,
   "id": "e8241217",
   "metadata": {},
   "outputs": [],
   "source": []
  },
  {
   "cell_type": "code",
   "execution_count": null,
   "id": "b8be174e",
   "metadata": {},
   "outputs": [],
   "source": []
  },
  {
   "cell_type": "code",
   "execution_count": null,
   "id": "c27b498c",
   "metadata": {},
   "outputs": [],
   "source": []
  },
  {
   "cell_type": "code",
   "execution_count": null,
   "id": "cb54ae56",
   "metadata": {},
   "outputs": [],
   "source": [
    "train.reset_index().groupby('sales_total').mean()"
   ]
  },
  {
   "cell_type": "code",
   "execution_count": null,
   "id": "28caef67",
   "metadata": {},
   "outputs": [],
   "source": [
    "# Convert the 'sale_date' column to datetime format\n",
    "store_df['sales_total'] = pd.to_datetime(store_df['sales_total'])\n",
    "\n",
    "# Sort the DataFrame by the 'sale_date' column\n",
    "store_df = store_df.sort_values('sales_total')"
   ]
  },
  {
   "cell_type": "code",
   "execution_count": null,
   "id": "0c2226ff",
   "metadata": {
    "scrolled": true
   },
   "outputs": [],
   "source": [
    "# Split the DataFrame into training, validation, and test sets using the function from prepare.py (as p)\n",
    "store_df_train, store_df_validate, store_df_test = p.split_store_data(store_df)"
   ]
  },
  {
   "cell_type": "code",
   "execution_count": null,
   "id": "b5d5d74d",
   "metadata": {},
   "outputs": [],
   "source": [
    "# Check the shapes of the resulting DataFrames\n",
    "print(\"Train shape:\", store_df_train.shape)\n",
    "print(\"Validate shape:\", store_df_validate.shape)\n",
    "print(\"Test shape:\", store_df_test.shape)"
   ]
  },
  {
   "cell_type": "code",
   "execution_count": null,
   "id": "200133ba",
   "metadata": {},
   "outputs": [],
   "source": [
    "for col in train.columns:\n",
    "    print(col)\n",
    "    train[col].hist()\n",
    "    plt.show()"
   ]
  },
  {
   "cell_type": "code",
   "execution_count": null,
   "id": "2b7e25a0",
   "metadata": {},
   "outputs": [],
   "source": [
    "# Display the first few rows of each DataFrame\n",
    "(\"Train data:\")\n",
    "store_df_train.head()"
   ]
  },
  {
   "cell_type": "code",
   "execution_count": null,
   "id": "d37515ac",
   "metadata": {
    "scrolled": true
   },
   "outputs": [],
   "source": [
    "(\"\\nValidate data:\")\n",
    "(store_df_validate.head())"
   ]
  },
  {
   "cell_type": "code",
   "execution_count": null,
   "id": "fcadd54e",
   "metadata": {},
   "outputs": [],
   "source": [
    "(\"\\nTest data:\")\n",
    "store_df_test.head()"
   ]
  },
  {
   "cell_type": "code",
   "execution_count": null,
   "id": "6a40ba58",
   "metadata": {},
   "outputs": [],
   "source": [
    "plt.plot(store_df_train.index, store_df_train.sales_total)\n",
    "plt.plot(store_df_test.index, store_df_test.sales_total)\n",
    "plt.show()"
   ]
  },
  {
   "cell_type": "code",
   "execution_count": null,
   "id": "8116b20b",
   "metadata": {},
   "outputs": [],
   "source": [
    "train.sales_total.plot();"
   ]
  },
  {
   "cell_type": "code",
   "execution_count": null,
   "id": "f6db8ff3",
   "metadata": {},
   "outputs": [],
   "source": [
    "train.sale_amount.plot();"
   ]
  },
  {
   "cell_type": "markdown",
   "id": "6d9f4c10",
   "metadata": {},
   "source": [
    "### Average sale amount throughout time"
   ]
  },
  {
   "cell_type": "code",
   "execution_count": null,
   "id": "a43013e7",
   "metadata": {},
   "outputs": [],
   "source": [
    "train.sale_amount.resample('W').mean().plot(label='Weekly average')\n",
    "train.sale_amount.resample('M').mean().plot(label='Monthly average')\n",
    "train.sale_amount.resample('Y').mean().plot(label='Yearly average')\n",
    "plt.legend()\n",
    "plt.show"
   ]
  },
  {
   "cell_type": "code",
   "execution_count": null,
   "id": "7d1b9bb8",
   "metadata": {},
   "outputs": [],
   "source": [
    "train.sale_amount.plot(alpha=.2, label='Hourly')\n",
    "train.sale_amount.resample('W').mean().rolling(7).mean().plot(alpha=.8, label='1 week')"
   ]
  },
  {
   "cell_type": "code",
   "execution_count": null,
   "id": "7599aaa1",
   "metadata": {},
   "outputs": [],
   "source": [
    "train.head()"
   ]
  },
  {
   "cell_type": "markdown",
   "id": "b0a34d6f",
   "metadata": {},
   "source": [
    "# AVERAGE SALES OVER TIME "
   ]
  },
  {
   "cell_type": "markdown",
   "id": "725af42d",
   "metadata": {},
   "source": [
    "# MONTHLY SALES OVERTIME"
   ]
  },
  {
   "cell_type": "code",
   "execution_count": null,
   "id": "46bd1371",
   "metadata": {
    "scrolled": true
   },
   "outputs": [],
   "source": [
    "# Explore the training data\n",
    "# Plot time series of sales or item demand\n",
    "p.plot_column(store_df_train, 'sales_total', title='Time Series of Sales Total')\n",
    "\n",
    "# Check for seasonality and trends\n",
    "# (You can use seasonal decomposition or autocorrelation plots from the EDA section)"
   ]
  },
  {
   "cell_type": "code",
   "execution_count": null,
   "id": "513f19e0",
   "metadata": {},
   "outputs": [],
   "source": [
    "# Visualize the distribution of sales by month\n",
    "train['month'] = train.index.month\n",
    "sns.boxplot(x='month', y='sales_total', data=store_train)\n",
    "plt.title('Distribution of Sales Total by Month')\n",
    "plt.show()"
   ]
  },
  {
   "cell_type": "code",
   "execution_count": null,
   "id": "083ef949",
   "metadata": {},
   "outputs": [],
   "source": [
    "# Visualize the distribution of sales by day of the week\n",
    "store_df_train['day_of_week'] = store_df_train.index.day_of_week\n",
    "sns.boxplot(x='day_of_week', y='sales_total', data=train)\n",
    "plt.title('Distribution of Sales Total by Day of the Week')\n",
    "plt.xticks(range(7), ['Mon', 'Tue', 'Wed', 'Thu', 'Fri', 'Sat', 'Sun'])\n",
    "plt.show()\n",
    "\n",
    "# Investigate any patterns or outliers in the data\n",
    "# (You can use line plots or scatter plots with lagged values)\n",
    "\n",
    "# ... Continue exploring the data based on your specific analysis needs"
   ]
  },
  {
   "cell_type": "code",
   "execution_count": null,
   "id": "5914691f",
   "metadata": {},
   "outputs": [],
   "source": [
    "# Plot the distribution of the target variable (e.g., sales_amount)\n",
    "plt.figure(figsize=(10, 6))\n",
    "sns.histplot(store_df['sale_amount'], kde=True)\n",
    "plt.title('Distribution of Sale Amount')\n",
    "plt.xlabel('Sale Amount')\n",
    "plt.ylabel('Frequency')\n",
    "plt.show()\n"
   ]
  },
  {
   "cell_type": "code",
   "execution_count": null,
   "id": "1f9ae493",
   "metadata": {},
   "outputs": [],
   "source": [
    "# Calculate the train size and test start index\n",
    "train_size = 0.70\n",
    "n = store_df.shape[0]\n",
    "test_start_index = round(train_size * n)\n"
   ]
  },
  {
   "cell_type": "code",
   "execution_count": null,
   "id": "aaf6bd33",
   "metadata": {},
   "outputs": [],
   "source": [
    "# Split the DataFrame into training and testing sets\n",
    "train = store_df[:test_start_index]  # everything up to (not including) the test_start_index\n",
    "test = store_df[test_start_index:]  # everything from the test_start_index to the end"
   ]
  },
  {
   "cell_type": "code",
   "execution_count": null,
   "id": "41f038ad",
   "metadata": {
    "scrolled": true
   },
   "outputs": [],
   "source": [
    "# Plot the sales_total column for both training and testing sets\n",
    "plt.plot(store_df_train.index, store_df_train.sales_total)\n",
    "plt.plot(test.index, test.sales_total)\n",
    "plt.title('Sales Total')\n",
    "plt.legend(['Train', 'Test'])\n",
    "plt.show()"
   ]
  },
  {
   "cell_type": "code",
   "execution_count": null,
   "id": "f63a71e1",
   "metadata": {},
   "outputs": [],
   "source": [
    "# Plot the sale_amount column for both training and testing sets\n",
    "plt.plot(train.index, train.sale_amount)\n",
    "plt.plot(test.index, test.sale_amount)\n",
    "plt.title('Sale Amount')\n",
    "plt.legend(['Train', 'Test'])\n",
    "plt.show()"
   ]
  },
  {
   "cell_type": "code",
   "execution_count": null,
   "id": "88a9b6a6",
   "metadata": {},
   "outputs": [],
   "source": [
    "# Split the DataFrame into training and testing sets based on date\n",
    "train = store_df.loc[:'2016']\n",
    "test = store_df.loc['2017':]"
   ]
  },
  {
   "cell_type": "code",
   "execution_count": null,
   "id": "1f519c79",
   "metadata": {},
   "outputs": [],
   "source": [
    "# Plot the sale_amount column for both training and testing sets based on date\n",
    "plt.plot(train.index, train.sale_amount)\n",
    "plt.plot(test.index, test.sale_amount)\n",
    "plt.title('Sale Amount - Based on Date')\n",
    "plt.legend(['Train', 'Test'])\n",
    "plt.show()"
   ]
  },
  {
   "cell_type": "code",
   "execution_count": null,
   "id": "212fc9a4",
   "metadata": {},
   "outputs": [],
   "source": [
    "# Calculate and plot the mean of sales_total and sale_amount columns for each date in the training set\n",
    "train_mean_by_date = train.reset_index().groupby('sale_date').mean()\n",
    "plt.plot(train_mean_by_date.index, train_mean_by_date.sales_total)\n",
    "plt.plot(train_mean_by_date.index, train_mean_by_date.sale_amount)\n",
    "plt.title('Mean Sales Total and Sale Amount by Date (Training Set)')\n",
    "plt.legend(['Sales Total', 'Sale Amount'])\n",
    "plt.show()"
   ]
  },
  {
   "cell_type": "code",
   "execution_count": null,
   "id": "6b17b65c",
   "metadata": {},
   "outputs": [],
   "source": [
    "# Plot histograms for each column in the training set\n",
    "for col in train.columns:\n",
    "    print(col)\n",
    "    train[col].hist()\n",
    "    plt.title(col)\n",
    "    plt.show()"
   ]
  },
  {
   "cell_type": "code",
   "execution_count": null,
   "id": "1afbcb4f",
   "metadata": {},
   "outputs": [],
   "source": [
    "# Call the function to split the data\n",
    "train, validate, test = p.split_store_data(store_df)\n",
    "\n",
    "# You can now use the 'train', 'validate', and 'test' DataFrames for further analysis or modeling.\n"
   ]
  },
  {
   "cell_type": "code",
   "execution_count": null,
   "id": "2bbea1cd",
   "metadata": {},
   "outputs": [],
   "source": [
    "train.sales_total.plot();"
   ]
  },
  {
   "cell_type": "code",
   "execution_count": null,
   "id": "0c8ce4c7",
   "metadata": {},
   "outputs": [],
   "source": [
    "train.sale_amount.plot();"
   ]
  },
  {
   "cell_type": "code",
   "execution_count": null,
   "id": "7385db9f",
   "metadata": {},
   "outputs": [],
   "source": [
    "train.sale_amount.resample('W').mean().plot(label='Weekly average')\n",
    "train.sale_amount.resample('M').mean().plot(label='Monthly average')\n",
    "train.sale_amount.resample('Y').mean().plot(label='Yearly average')\n",
    "plt.legend()\n",
    "plt.show"
   ]
  },
  {
   "cell_type": "code",
   "execution_count": null,
   "id": "3bd975ba",
   "metadata": {},
   "outputs": [],
   "source": [
    "train.sale_amount.plot(alpha=.2, label='Hourly')\n",
    "train.sale_amount.resample('W').mean().rolling(7).mean().plot(alpha=.8, label='1 week')"
   ]
  },
  {
   "cell_type": "code",
   "execution_count": null,
   "id": "dd2f0f8d",
   "metadata": {},
   "outputs": [],
   "source": [
    "train.head()"
   ]
  },
  {
   "cell_type": "code",
   "execution_count": null,
   "id": "2fa30aed",
   "metadata": {},
   "outputs": [],
   "source": [
    "train.month.resample('W').mean().plot(label='Weekly average')\n",
    "train.month.resample('M').mean().plot(label='Monthly average')\n",
    "train.month.resample('Y').mean().plot(label='Yearly average')\n",
    "plt.legend()\n",
    "plt.show"
   ]
  },
  {
   "cell_type": "code",
   "execution_count": null,
   "id": "2193a6ed",
   "metadata": {},
   "outputs": [],
   "source": [
    "train.sales_total.plot()"
   ]
  },
  {
   "cell_type": "code",
   "execution_count": null,
   "id": "b95d3255",
   "metadata": {},
   "outputs": [],
   "source": [
    "train_sales=train[['sales_total']]\n",
    "train_sales"
   ]
  },
  {
   "cell_type": "code",
   "execution_count": null,
   "id": "9fb7ff01",
   "metadata": {},
   "outputs": [],
   "source": [
    "def plot_averages(dataframe, column):\n",
    "    plt.figure(figsize=(10, 6))\n",
    "\n",
    "    dataframe[column].resample('W').mean().plot(label='Weekly average')\n",
    "    dataframe[column].resample('M').mean().plot(label='Monthly average')\n",
    "    dataframe[column].resample('Y').mean().plot(label='Yearly average')\n",
    "\n",
    "    plt.legend()\n",
    "    plt.xlabel('Time')\n",
    "    plt.ylabel('Average')\n",
    "    plt.title(f'{column} Time Series Averages')\n",
    "\n",
    "    plt.show()"
   ]
  },
  {
   "cell_type": "code",
   "execution_count": null,
   "id": "e3fb83c3",
   "metadata": {},
   "outputs": [],
   "source": [
    "plot_averages(train,'month')"
   ]
  },
  {
   "cell_type": "code",
   "execution_count": null,
   "id": "e8967ebd",
   "metadata": {},
   "outputs": [],
   "source": [
    "plot_averages(train,'sale_amount')"
   ]
  },
  {
   "cell_type": "code",
   "execution_count": null,
   "id": "ffd19872",
   "metadata": {},
   "outputs": [],
   "source": [
    "def heatmap(dataframe):\n",
    "    plt.figure(figsize=(10, 6))\n",
    "    sns.heatmap(dataframe, cmap='YlGnBu')\n",
    "    plt.title('Heatmap')\n",
    "    plt.show()"
   ]
  },
  {
   "cell_type": "code",
   "execution_count": null,
   "id": "eb63faa4",
   "metadata": {},
   "outputs": [],
   "source": [
    "train_sales=train[['sale_amount']]\n",
    "train_sales=train_sales.resample('D').mean()\n",
    "train_sales"
   ]
  },
  {
   "cell_type": "code",
   "execution_count": null,
   "id": "3a0e62b8",
   "metadata": {},
   "outputs": [],
   "source": [
    "train_sales.loc[:, 'sale_bin'] = pd.qcut(train_sales['sale_amount'], 3, labels=['low', 'med', 'high'])\n",
    "train_sales"
   ]
  },
  {
   "cell_type": "code",
   "execution_count": null,
   "id": "5df3276d",
   "metadata": {},
   "outputs": [],
   "source": [
    "train_sales.groupby('sale_bin').resample('M').size()"
   ]
  },
  {
   "cell_type": "code",
   "execution_count": null,
   "id": "1094e106",
   "metadata": {},
   "outputs": [],
   "source": [
    "heatmap(train_sales)"
   ]
  },
  {
   "cell_type": "code",
   "execution_count": null,
   "id": "8b597d86",
   "metadata": {},
   "outputs": [],
   "source": [
    "train_sales.groupby('sale_bin').mean()\n"
   ]
  },
  {
   "cell_type": "code",
   "execution_count": null,
   "id": "be000e31",
   "metadata": {},
   "outputs": [],
   "source": [
    "heatmap(train_sales)"
   ]
  },
  {
   "cell_type": "code",
   "execution_count": null,
   "id": "2078d587",
   "metadata": {},
   "outputs": [],
   "source": [
    "ax = (train_sales.groupby('sale_bin')\n",
    " .resample('M')\n",
    " .size()\n",
    " .unstack(0)\n",
    " .apply(lambda row: row / row.sum(), axis=1)\n",
    " .plot.area(title='Temp bin over time', ylabel='% of the month'))\n",
    "ax.legend(loc=\"upper left\", bbox_to_anchor=(1, 1))\n",
    "ax.yaxis.set_major_formatter('{:.0%}'.format)"
   ]
  },
  {
   "cell_type": "code",
   "execution_count": null,
   "id": "e6f73973",
   "metadata": {},
   "outputs": [],
   "source": [
    "def plot_area(dataframe, bin_column):\n",
    "    ax = (dataframe.groupby(bin_column)\n",
    "          .resample('M')\n",
    "          .size()\n",
    "          .unstack(0)\n",
    "          .apply(lambda row: row / row.sum(), axis=1)\n",
    "          .plot.area(title=f'{bin_column} bin over time', ylabel='% of the month'))\n",
    "    \n",
    "    ax.legend(loc=\"upper left\", bbox_to_anchor=(1, 1))\n",
    "    ax.yaxis.set_major_formatter('{:.0%}'.format)\n",
    "    plt.show()"
   ]
  },
  {
   "cell_type": "code",
   "execution_count": null,
   "id": "0c8a2b64",
   "metadata": {},
   "outputs": [],
   "source": [
    "plot_area(train_sales,'sale_bin')\n"
   ]
  },
  {
   "cell_type": "markdown",
   "id": "2967f848",
   "metadata": {},
   "source": [
    "# TAKEAWAY \n",
    "-\n",
    "-"
   ]
  },
  {
   "cell_type": "markdown",
   "id": "7c0be6c6",
   "metadata": {},
   "source": [
    "## OPEN POWER SYSTEMS DATA FOR GERMANY\n"
   ]
  },
  {
   "cell_type": "code",
   "execution_count": null,
   "id": "b4082597",
   "metadata": {
    "scrolled": true
   },
   "outputs": [],
   "source": [
    "#Call the function to get the DataFrame.\n",
    "power_data_df =a.get_power_data()\n"
   ]
  },
  {
   "cell_type": "code",
   "execution_count": null,
   "id": "3663ebe4",
   "metadata": {
    "scrolled": true
   },
   "outputs": [],
   "source": [
    "power_data_df.consumption.plot()"
   ]
  },
  {
   "cell_type": "code",
   "execution_count": null,
   "id": "f2eb4b0b",
   "metadata": {},
   "outputs": [],
   "source": [
    "train = power_data_df.loc[:'2014']\n",
    "test = power_data_df.loc['2015':]"
   ]
  },
  {
   "cell_type": "code",
   "execution_count": null,
   "id": "472ae070",
   "metadata": {},
   "outputs": [],
   "source": [
    "plt.plot(train.index, train.consumption)\n",
    "plt.plot(test.index, test.consumption)\n",
    "plt.show()\n"
   ]
  },
  {
   "cell_type": "code",
   "execution_count": null,
   "id": "5100234f",
   "metadata": {},
   "outputs": [],
   "source": [
    "train.head()"
   ]
  },
  {
   "cell_type": "code",
   "execution_count": null,
   "id": "b4822f12",
   "metadata": {},
   "outputs": [],
   "source": [
    "plot_averages(train,'consumption')"
   ]
  },
  {
   "cell_type": "code",
   "execution_count": null,
   "id": "ad335074",
   "metadata": {},
   "outputs": [],
   "source": [
    "plot_averages(train,'wind+solar')"
   ]
  },
  {
   "cell_type": "code",
   "execution_count": null,
   "id": "4ee4d3f4",
   "metadata": {},
   "outputs": [],
   "source": [
    "train_con=train[['consumption']]\n",
    "train_con"
   ]
  },
  {
   "cell_type": "code",
   "execution_count": null,
   "id": "ccb2ac7e",
   "metadata": {},
   "outputs": [],
   "source": [
    "train_con.loc[:, 'consumption_bin'] = pd.qcut(train_con['consumption'], 4, labels=['low', 'med', 'med/high','high'])\n",
    "train_con"
   ]
  },
  {
   "cell_type": "code",
   "execution_count": null,
   "id": "cf23f324",
   "metadata": {},
   "outputs": [],
   "source": [
    "train_con.groupby('consumption_bin').mean()"
   ]
  },
  {
   "cell_type": "code",
   "execution_count": null,
   "id": "d33f3061",
   "metadata": {},
   "outputs": [],
   "source": [
    "train_con.groupby('consumption_bin').plot.area()"
   ]
  },
  {
   "cell_type": "code",
   "execution_count": null,
   "id": "1d00d36f",
   "metadata": {},
   "outputs": [],
   "source": [
    "train_ws=train[['wind+solar']]"
   ]
  },
  {
   "cell_type": "code",
   "execution_count": null,
   "id": "27a7f972",
   "metadata": {},
   "outputs": [],
   "source": [
    "train_ws.loc[:,'w+s_bin'] = pd.qcut(train_ws['wind+solar'], 4, labels=['low', 'med', 'med/high','high'])\n",
    "train_ws"
   ]
  }
 ],
 "metadata": {
  "kernelspec": {
   "display_name": "Python 3 (ipykernel)",
   "language": "python",
   "name": "python3"
  },
  "language_info": {
   "codemirror_mode": {
    "name": "ipython",
    "version": 3
   },
   "file_extension": ".py",
   "mimetype": "text/x-python",
   "name": "python",
   "nbconvert_exporter": "python",
   "pygments_lexer": "ipython3",
   "version": "3.10.9"
  },
  "varInspector": {
   "cols": {
    "lenName": 16,
    "lenType": 16,
    "lenVar": 40
   },
   "kernels_config": {
    "python": {
     "delete_cmd_postfix": "",
     "delete_cmd_prefix": "del ",
     "library": "var_list.py",
     "varRefreshCmd": "print(var_dic_list())"
    },
    "r": {
     "delete_cmd_postfix": ") ",
     "delete_cmd_prefix": "rm(",
     "library": "var_list.r",
     "varRefreshCmd": "cat(var_dic_list()) "
    }
   },
   "types_to_exclude": [
    "module",
    "function",
    "builtin_function_or_method",
    "instance",
    "_Feature"
   ],
   "window_display": false
  }
 },
 "nbformat": 4,
 "nbformat_minor": 5
}
